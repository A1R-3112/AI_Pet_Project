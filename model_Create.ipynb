{
 "cells": [
  {
   "cell_type": "markdown",
   "id": "785c14e2",
   "metadata": {},
   "source": [
    "# Create Model & Training Model"
   ]
  },
  {
   "cell_type": "code",
   "execution_count": 13,
   "id": "1dc18dc3",
   "metadata": {
    "collapsed": true
   },
   "outputs": [
    {
     "name": "stdout",
     "output_type": "stream",
     "text": [
      "Collecting mediapipe\n",
      "  Downloading mediapipe-0.9.0-cp38-cp38-win_amd64.whl (49.8 MB)\n",
      "     --------------------------------------- 49.8/49.8 MB 54.7 MB/s eta 0:00:00\n",
      "Requirement already satisfied: matplotlib in c:\\users\\seote\\anaconda3\\envs\\tensor\\lib\\site-packages (from mediapipe) (3.6.2)\n",
      "Requirement already satisfied: numpy in c:\\users\\seote\\anaconda3\\envs\\tensor\\lib\\site-packages (from mediapipe) (1.21.5)\n",
      "Collecting opencv-contrib-python\n",
      "  Downloading opencv_contrib_python-4.6.0.66-cp36-abi3-win_amd64.whl (42.5 MB)\n",
      "     --------------------------------------- 42.5/42.5 MB 59.4 MB/s eta 0:00:00\n",
      "Requirement already satisfied: attrs>=19.1.0 in c:\\users\\seote\\anaconda3\\envs\\tensor\\lib\\site-packages (from mediapipe) (22.1.0)\n",
      "Requirement already satisfied: protobuf<4,>=3.11 in c:\\users\\seote\\anaconda3\\envs\\tensor\\lib\\site-packages (from mediapipe) (3.20.1)\n",
      "Requirement already satisfied: flatbuffers>=2.0 in c:\\users\\seote\\anaconda3\\envs\\tensor\\lib\\site-packages (from mediapipe) (22.11.23)\n",
      "Requirement already satisfied: absl-py in c:\\users\\seote\\anaconda3\\envs\\tensor\\lib\\site-packages (from mediapipe) (1.3.0)\n",
      "Requirement already satisfied: pyparsing>=2.2.1 in c:\\users\\seote\\anaconda3\\envs\\tensor\\lib\\site-packages (from matplotlib->mediapipe) (3.0.9)\n",
      "Requirement already satisfied: packaging>=20.0 in c:\\users\\seote\\anaconda3\\envs\\tensor\\lib\\site-packages (from matplotlib->mediapipe) (21.3)\n",
      "Requirement already satisfied: pillow>=6.2.0 in c:\\users\\seote\\anaconda3\\envs\\tensor\\lib\\site-packages (from matplotlib->mediapipe) (9.3.0)\n",
      "Requirement already satisfied: cycler>=0.10 in c:\\users\\seote\\anaconda3\\envs\\tensor\\lib\\site-packages (from matplotlib->mediapipe) (0.11.0)\n",
      "Requirement already satisfied: kiwisolver>=1.0.1 in c:\\users\\seote\\anaconda3\\envs\\tensor\\lib\\site-packages (from matplotlib->mediapipe) (1.4.4)\n",
      "Requirement already satisfied: fonttools>=4.22.0 in c:\\users\\seote\\anaconda3\\envs\\tensor\\lib\\site-packages (from matplotlib->mediapipe) (4.38.0)\n",
      "Requirement already satisfied: contourpy>=1.0.1 in c:\\users\\seote\\anaconda3\\envs\\tensor\\lib\\site-packages (from matplotlib->mediapipe) (1.0.6)\n",
      "Requirement already satisfied: python-dateutil>=2.7 in c:\\users\\seote\\anaconda3\\envs\\tensor\\lib\\site-packages (from matplotlib->mediapipe) (2.8.2)\n",
      "Requirement already satisfied: six>=1.5 in c:\\users\\seote\\anaconda3\\envs\\tensor\\lib\\site-packages (from python-dateutil>=2.7->matplotlib->mediapipe) (1.16.0)\n",
      "Installing collected packages: opencv-contrib-python, mediapipe\n"
     ]
    },
    {
     "name": "stderr",
     "output_type": "stream",
     "text": [
      "ERROR: Could not install packages due to an OSError: [WinError 5] 액세스가 거부되었습니다: 'C:\\\\Users\\\\seote\\\\anaconda3\\\\envs\\\\tensor\\\\Lib\\\\site-packages\\\\cv2\\\\cv2.pyd'\n",
      "Consider using the `--user` option or check the permissions.\n",
      "\n"
     ]
    }
   ],
   "source": [
    "#!pip install scikit-image\n",
    "#!pip install imageio\n",
    "#!pip install mediapipe"
   ]
  },
  {
   "cell_type": "code",
   "execution_count": 1,
   "id": "b2482750",
   "metadata": {},
   "outputs": [],
   "source": [
    "import tensorflow as tf\n",
    "import pandas as pd\n",
    "import numpy as np\n",
    "import matplotlib.pyplot as plt\n",
    "import seaborn as sns\n",
    "import cv2\n",
    "import warnings\n",
    "import h5py\n",
    "\n",
    "warnings.filterwarnings('ignore')\n",
    "%matplotlib inline"
   ]
  },
  {
   "cell_type": "code",
   "execution_count": 2,
   "id": "1e8e8d44",
   "metadata": {},
   "outputs": [],
   "source": [
    "from keras.models import Sequential\n",
    "from keras.layers import Dropout, Flatten, Dense\n",
    "from keras import applications\n",
    "from keras.optimizers import SGD\n",
    "from sklearn.utils import shuffle\n",
    "from keras.preprocessing.image import ImageDataGenerator\n",
    "from keras.callbacks import EarlyStopping, ModelCheckpoint, ReduceLROnPlateau\n",
    "from keras.applications.vgg16 import VGG16\n",
    "from keras.layers import LSTM\n",
    "\n",
    "import glob\n",
    "import time, os\n",
    "import mediapipe as mp\n",
    "from imageio import imread\n",
    "from skimage.transform import resize"
   ]
  },
  {
   "cell_type": "code",
   "execution_count": 4,
   "id": "12cae6cf",
   "metadata": {},
   "outputs": [],
   "source": [
    "\"\"\"\n",
    "def bring_data_from_directory():\n",
    "    datagen = ImageDataGenerator(rescale=1. / 255)\n",
    "    \n",
    "    train_generator = datagen.flow_from_directory(\n",
    "        train_dir,\n",
    "        target_size=(224, 224),\n",
    "        batch_size=batch_size,\n",
    "        class_mode='categorical',  # this means our generator will only yield batches of data, no labels\n",
    "        shuffle=True,\n",
    "        classes=['class_1','class_2','class_3','class_4','class_5'])\n",
    "\n",
    "    validation_generator = datagen.flow_from_directory(\n",
    "        valid_dir,\n",
    "        target_size=(224, 224),\n",
    "        batch_size=batch_size,\n",
    "        class_mode='categorical',  # this means our generator will only yield batches of data, no labels\n",
    "        shuffle=True,\n",
    "        classes=['class_1','class_2','class_3','class_4','class_5'])\n",
    "    \n",
    "    return train_generator,validation_generator\n",
    "    \"\"\""
   ]
  },
  {
   "cell_type": "code",
   "execution_count": 3,
   "id": "6399be1b",
   "metadata": {},
   "outputs": [
    {
     "data": {
      "text/plain": [
       "(7295, 30, 100)"
      ]
     },
     "execution_count": 3,
     "metadata": {},
     "output_type": "execute_result"
    }
   ],
   "source": [
    "os.environ['CUDA_VISIBLE_DEVICES'] = '1'\n",
    "os.environ['TF_FORCE_GPU_ALLOW_GROWTH'] = 'true'\n",
    "\n",
    "\n",
    "actions = [\n",
    "    'come',\n",
    "    'grip',\n",
    "    'hello',\n",
    "    'Ok',\n",
    "    'spin'\n",
    "]\n",
    "\n",
    "data = np.concatenate([\n",
    "    np.load(os.getcwd() + '\\\\data\\\\seq_come_1670078924.npy'),\n",
    "    np.load(os.getcwd() + '\\\\data\\\\seq_grip_1670078924.npy'),\n",
    "    np.load(os.getcwd() + '\\\\data\\\\seq_hello_1670078924.npy'),\n",
    "    np.load(os.getcwd() + '\\\\data\\\\seq_Ok_1670078924.npy'),\n",
    "    np.load(os.getcwd() + '\\\\data\\\\seq_spin_1670078924.npy')\n",
    "], axis = 0)\n",
    "\n",
    "data.shape"
   ]
  },
  {
   "cell_type": "code",
   "execution_count": 4,
   "id": "dbec450c",
   "metadata": {},
   "outputs": [
    {
     "name": "stdout",
     "output_type": "stream",
     "text": [
      "(7295, 30, 99)\n",
      "(7295,)\n"
     ]
    }
   ],
   "source": [
    "x_data = data[:, :, :-1]  # 마지막 값은 label 값이므로 빼준다\n",
    "labels = data[:, 0, -1]  # label 값은 따로 저장\n",
    "\n",
    "print(x_data.shape)\n",
    "print(labels.shape)"
   ]
  },
  {
   "cell_type": "code",
   "execution_count": 5,
   "id": "1d2c5f38",
   "metadata": {},
   "outputs": [
    {
     "data": {
      "text/plain": [
       "(7295, 5)"
      ]
     },
     "execution_count": 5,
     "metadata": {},
     "output_type": "execute_result"
    }
   ],
   "source": [
    "# 라벨을 One_hotencoding 하였음\n",
    "\n",
    "from tensorflow.keras.utils import to_categorical\n",
    "\n",
    "y_data = to_categorical(labels, num_classes = len(actions))\n",
    "y_data.shape"
   ]
  },
  {
   "cell_type": "code",
   "execution_count": 6,
   "id": "6556c5f0",
   "metadata": {},
   "outputs": [
    {
     "name": "stdout",
     "output_type": "stream",
     "text": [
      "(6565, 30, 99) (730, 30, 99)\n",
      "(6565, 5) (730, 5)\n"
     ]
    }
   ],
   "source": [
    "# 훈련데이터 및 테스트 데이터 분리 9:1\n",
    "from sklearn.model_selection import train_test_split\n",
    "\n",
    "x_data = x_data.astype(np.float32)\n",
    "y_data = y_data.astype(np.float32)\n",
    "\n",
    "X_train, X_val, y_train, y_val = train_test_split(x_data, y_data, test_size=0.1, random_state=42)\n",
    "print(X_train.shape, X_val.shape)\n",
    "print(y_train.shape, y_val.shape)"
   ]
  },
  {
   "cell_type": "code",
   "execution_count": 10,
   "id": "2e044689",
   "metadata": {
    "scrolled": true
   },
   "outputs": [
    {
     "name": "stdout",
     "output_type": "stream",
     "text": [
      "(7295, 30, 100)\n"
     ]
    },
    {
     "data": {
      "text/plain": [
       "array([[[ 2.82981694e-01,  9.41558003e-01,  3.19682442e-07, ...,\n",
       "          3.20623512e+01,  1.20812941e+01,  0.00000000e+00],\n",
       "        [ 2.82895863e-01,  9.38448966e-01,  5.52681513e-07, ...,\n",
       "          2.48594017e+01,  8.45827389e+00,  0.00000000e+00],\n",
       "        [ 2.85952538e-01,  9.31252837e-01,  6.01032127e-07, ...,\n",
       "          2.53656139e+01,  7.57342434e+00,  0.00000000e+00],\n",
       "        ...,\n",
       "        [ 2.60083795e-01,  9.60493267e-01,  2.71964666e-07, ...,\n",
       "          5.77303429e+01,  3.01047134e+01,  0.00000000e+00],\n",
       "        [ 2.46075287e-01,  9.54442382e-01, -2.95369745e-07, ...,\n",
       "          6.93409805e+01,  5.91126556e+01,  0.00000000e+00],\n",
       "        [ 2.11858332e-01,  9.17957664e-01, -2.35915024e-07, ...,\n",
       "          9.38492889e+01,  3.11416130e+01,  0.00000000e+00]],\n",
       "\n",
       "       [[ 2.82895863e-01,  9.38448966e-01,  5.52681513e-07, ...,\n",
       "          2.48594017e+01,  8.45827389e+00,  0.00000000e+00],\n",
       "        [ 2.85952538e-01,  9.31252837e-01,  6.01032127e-07, ...,\n",
       "          2.53656139e+01,  7.57342434e+00,  0.00000000e+00],\n",
       "        [ 2.84760058e-01,  9.30132508e-01,  6.39759378e-07, ...,\n",
       "          2.77701855e+01,  7.93132687e+00,  0.00000000e+00],\n",
       "        ...,\n",
       "        [ 2.46075287e-01,  9.54442382e-01, -2.95369745e-07, ...,\n",
       "          6.93409805e+01,  5.91126556e+01,  0.00000000e+00],\n",
       "        [ 2.11858332e-01,  9.17957664e-01, -2.35915024e-07, ...,\n",
       "          9.38492889e+01,  3.11416130e+01,  0.00000000e+00],\n",
       "        [ 8.39965567e-02,  8.89570534e-01,  1.67209819e-07, ...,\n",
       "          7.25752258e+01,  1.05801334e+01,  0.00000000e+00]],\n",
       "\n",
       "       [[ 2.85952538e-01,  9.31252837e-01,  6.01032127e-07, ...,\n",
       "          2.53656139e+01,  7.57342434e+00,  0.00000000e+00],\n",
       "        [ 2.84760058e-01,  9.30132508e-01,  6.39759378e-07, ...,\n",
       "          2.77701855e+01,  7.93132687e+00,  0.00000000e+00],\n",
       "        [ 2.83749074e-01,  9.30114210e-01,  6.35054505e-07, ...,\n",
       "          2.46255074e+01,  8.51751900e+00,  0.00000000e+00],\n",
       "        ...,\n",
       "        [ 2.11858332e-01,  9.17957664e-01, -2.35915024e-07, ...,\n",
       "          9.38492889e+01,  3.11416130e+01,  0.00000000e+00],\n",
       "        [ 8.39965567e-02,  8.89570534e-01,  1.67209819e-07, ...,\n",
       "          7.25752258e+01,  1.05801334e+01,  0.00000000e+00],\n",
       "        [ 1.32281289e-01,  9.27516818e-01, -5.04332547e-07, ...,\n",
       "          3.07123585e+01,  1.10447350e+01,  0.00000000e+00]],\n",
       "\n",
       "       ...,\n",
       "\n",
       "       [[ 3.95484269e-01,  2.26298928e-01,  7.56965846e-07, ...,\n",
       "          6.59745102e+01,  4.67131615e+01,  4.00000000e+00],\n",
       "        [ 3.94029289e-01,  2.23049030e-01,  5.74645924e-07, ...,\n",
       "          8.17635727e+01,  5.78475990e+01,  4.00000000e+00],\n",
       "        [ 3.90217543e-01,  2.24455312e-01,  4.71008917e-07, ...,\n",
       "          1.00445259e+02,  5.01510544e+01,  4.00000000e+00],\n",
       "        ...,\n",
       "        [ 4.21018124e-01,  2.34666288e-01,  4.85493899e-07, ...,\n",
       "          1.04720375e+02,  4.81553802e+01,  4.00000000e+00],\n",
       "        [ 4.20758069e-01,  2.35250428e-01,  4.94881419e-07, ...,\n",
       "          9.89652863e+01,  4.59968224e+01,  4.00000000e+00],\n",
       "        [ 4.15206134e-01,  2.39371717e-01,  4.95758513e-07, ...,\n",
       "          9.11995621e+01,  4.30307312e+01,  4.00000000e+00]],\n",
       "\n",
       "       [[ 3.94029289e-01,  2.23049030e-01,  5.74645924e-07, ...,\n",
       "          8.17635727e+01,  5.78475990e+01,  4.00000000e+00],\n",
       "        [ 3.90217543e-01,  2.24455312e-01,  4.71008917e-07, ...,\n",
       "          1.00445259e+02,  5.01510544e+01,  4.00000000e+00],\n",
       "        [ 3.91710877e-01,  2.27597728e-01,  3.29509334e-07, ...,\n",
       "          1.07178413e+02,  4.84602814e+01,  4.00000000e+00],\n",
       "        ...,\n",
       "        [ 4.20758069e-01,  2.35250428e-01,  4.94881419e-07, ...,\n",
       "          9.89652863e+01,  4.59968224e+01,  4.00000000e+00],\n",
       "        [ 4.15206134e-01,  2.39371717e-01,  4.95758513e-07, ...,\n",
       "          9.11995621e+01,  4.30307312e+01,  4.00000000e+00],\n",
       "        [ 4.10319060e-01,  2.42361218e-01,  4.60650767e-07, ...,\n",
       "          1.02425789e+02,  3.77900314e+01,  4.00000000e+00]],\n",
       "\n",
       "       [[ 3.90217543e-01,  2.24455312e-01,  4.71008917e-07, ...,\n",
       "          1.00445259e+02,  5.01510544e+01,  4.00000000e+00],\n",
       "        [ 3.91710877e-01,  2.27597728e-01,  3.29509334e-07, ...,\n",
       "          1.07178413e+02,  4.84602814e+01,  4.00000000e+00],\n",
       "        [ 3.91101480e-01,  2.25991711e-01,  3.40713569e-07, ...,\n",
       "          1.05201988e+02,  4.90651855e+01,  4.00000000e+00],\n",
       "        ...,\n",
       "        [ 4.15206134e-01,  2.39371717e-01,  4.95758513e-07, ...,\n",
       "          9.11995621e+01,  4.30307312e+01,  4.00000000e+00],\n",
       "        [ 4.10319060e-01,  2.42361218e-01,  4.60650767e-07, ...,\n",
       "          1.02425789e+02,  3.77900314e+01,  4.00000000e+00],\n",
       "        [ 4.10524815e-01,  2.40627214e-01,  4.58586953e-07, ...,\n",
       "          9.34008865e+01,  3.80790215e+01,  4.00000000e+00]]])"
      ]
     },
     "execution_count": 10,
     "metadata": {},
     "output_type": "execute_result"
    }
   ],
   "source": [
    "print(data.shape)\n",
    "data"
   ]
  },
  {
   "cell_type": "code",
   "execution_count": 13,
   "id": "b7ed80c8",
   "metadata": {},
   "outputs": [
    {
     "name": "stdout",
     "output_type": "stream",
     "text": [
      "Model: \"sequential_1\"\n",
      "_________________________________________________________________\n",
      " Layer (type)                Output Shape              Param #   \n",
      "=================================================================\n",
      " lstm_1 (LSTM)               (None, 64)                41984     \n",
      "                                                                 \n",
      " dense_1 (Dense)             (None, 32)                2080      \n",
      "                                                                 \n",
      " dense_2 (Dense)             (None, 5)                 165       \n",
      "                                                                 \n",
      "=================================================================\n",
      "Total params: 44,229\n",
      "Trainable params: 44,229\n",
      "Non-trainable params: 0\n",
      "_________________________________________________________________\n"
     ]
    }
   ],
   "source": [
    "# 모델 생성\n",
    "## LSTM(RNN)을 선택한 이유\n",
    "## 동영상을 시간의 순서대로 프레임별로 이미지화 시켰기 때문에 순서형 데이터라고 생각하였기 때문에 \n",
    "## 순환신경망인 RNN을 사용하였고 그 중 RNN의 단점을 보완한 LSTM을 사용하게 되었음\n",
    "\n",
    "## LSTM과 같이 RNN에서 활성화함수를 relu로 할 경우 발산할 가능성이 있기 때문에 tanh로 하였음\n",
    "model = Sequential()\n",
    "\n",
    "model.add(LSTM(64, activation = 'tanh', input_shape = X_train.shape[1:3]))  # X_train.shape[1:3] -> (30, 99)\n",
    "model.add(Dense(32, activation = 'tanh'))\n",
    "model.add(Dense(len(actions), activation = 'softmax'))\n",
    "\n",
    "model.compile(optimizer='adam',\n",
    "             loss = 'categorical_crossentropy',\n",
    "             metrics = ['acc'])\n",
    "model.summary()\n",
    "\n",
    "epochs = 200\n",
    "savepath = os.getcwd() + f'\\\\models\\\\model_{epochs}_tanh.h5'"
   ]
  },
  {
   "cell_type": "markdown",
   "id": "d1865450",
   "metadata": {},
   "source": [
    "### keras.callbacks.ReduceLROnPlateau 하이퍼파라미터\n",
    "* factor : Learning Rate(LR)를 얼마나 감소시킬지 정하는 파라미터 값\n",
    " * 현재 LR이 0.1이고 factor = 0.2이면 다음 LR은 0.02가 됨\n",
    "* patience : Training이 진행됨에도 더 이상 monitor되는 값의 개선이 없을 경우, 최적의 monitor값을 기준으로 몇 번의 epoch을 진행하고, LR을 조절할 지의 값\n",
    " * patience는 3이고, 30 epochs에 정확도가 99%였을 때,만약 31번째에 정확도 98%, 32번째에 98.5%, 33번째에 98%라면 모델의 개선이 (patience=3)동안 개선이 없었기에,  ReduceLROnPlateau 콜백함수를 실행"
   ]
  },
  {
   "cell_type": "code",
   "execution_count": 12,
   "id": "0a990b86",
   "metadata": {
    "scrolled": true
   },
   "outputs": [
    {
     "name": "stdout",
     "output_type": "stream",
     "text": [
      "Epoch 1/200\n",
      "203/206 [============================>.] - ETA: 0s - loss: 0.2519 - acc: 0.9558\n",
      "Epoch 1: val_acc improved from -inf to 1.00000, saving model to C:\\Users\\seote\\Desktop\\python\\Section4\\models\\model_200_tanh_1layer.h5\n",
      "206/206 [==============================] - 3s 7ms/step - loss: 0.2494 - acc: 0.9563 - val_loss: 0.0236 - val_acc: 1.0000 - lr: 0.0010\n",
      "Epoch 2/200\n",
      "199/206 [===========================>..] - ETA: 0s - loss: 0.0138 - acc: 0.9995\n",
      "Epoch 2: val_acc did not improve from 1.00000\n",
      "206/206 [==============================] - 1s 6ms/step - loss: 0.0137 - acc: 0.9995 - val_loss: 0.0077 - val_acc: 1.0000 - lr: 0.0010\n",
      "Epoch 3/200\n",
      "198/206 [===========================>..] - ETA: 0s - loss: 0.0050 - acc: 1.0000\n",
      "Epoch 3: val_acc did not improve from 1.00000\n",
      "206/206 [==============================] - 1s 6ms/step - loss: 0.0050 - acc: 1.0000 - val_loss: 0.0043 - val_acc: 1.0000 - lr: 0.0010\n",
      "Epoch 4/200\n",
      "200/206 [============================>.] - ETA: 0s - loss: 0.0033 - acc: 1.0000\n",
      "Epoch 4: val_acc did not improve from 1.00000\n",
      "206/206 [==============================] - 1s 6ms/step - loss: 0.0032 - acc: 1.0000 - val_loss: 0.0024 - val_acc: 1.0000 - lr: 0.0010\n",
      "Epoch 5/200\n",
      "197/206 [===========================>..] - ETA: 0s - loss: 0.0016 - acc: 1.0000\n",
      "Epoch 5: val_acc did not improve from 1.00000\n",
      "206/206 [==============================] - 1s 6ms/step - loss: 0.0016 - acc: 1.0000 - val_loss: 0.0011 - val_acc: 1.0000 - lr: 0.0010\n",
      "Epoch 6/200\n",
      "197/206 [===========================>..] - ETA: 0s - loss: 8.6370e-04 - acc: 1.0000\n",
      "Epoch 6: val_acc did not improve from 1.00000\n",
      "206/206 [==============================] - 1s 6ms/step - loss: 8.9770e-04 - acc: 1.0000 - val_loss: 0.0011 - val_acc: 1.0000 - lr: 0.0010\n",
      "Epoch 7/200\n",
      "206/206 [==============================] - ETA: 0s - loss: 0.0045 - acc: 0.9992\n",
      "Epoch 7: val_acc did not improve from 1.00000\n",
      "206/206 [==============================] - 1s 6ms/step - loss: 0.0045 - acc: 0.9992 - val_loss: 0.0042 - val_acc: 1.0000 - lr: 0.0010\n",
      "Epoch 8/200\n",
      "198/206 [===========================>..] - ETA: 0s - loss: 0.0019 - acc: 1.0000\n",
      "Epoch 8: val_acc did not improve from 1.00000\n",
      "206/206 [==============================] - 1s 6ms/step - loss: 0.0018 - acc: 1.0000 - val_loss: 0.0018 - val_acc: 1.0000 - lr: 0.0010\n",
      "Epoch 9/200\n",
      "197/206 [===========================>..] - ETA: 0s - loss: 0.0012 - acc: 0.9998\n",
      "Epoch 9: val_acc did not improve from 1.00000\n",
      "206/206 [==============================] - 1s 6ms/step - loss: 0.0012 - acc: 0.9998 - val_loss: 7.7268e-04 - val_acc: 1.0000 - lr: 0.0010\n",
      "Epoch 10/200\n",
      " 21/206 [==>...........................] - ETA: 0s - loss: 6.4729e-04 - acc: 1.0000"
     ]
    },
    {
     "ename": "KeyboardInterrupt",
     "evalue": "",
     "output_type": "error",
     "traceback": [
      "\u001b[1;31m---------------------------------------------------------------------------\u001b[0m",
      "\u001b[1;31mKeyboardInterrupt\u001b[0m                         Traceback (most recent call last)",
      "Cell \u001b[1;32mIn[12], line 1\u001b[0m\n\u001b[1;32m----> 1\u001b[0m history \u001b[38;5;241m=\u001b[39m \u001b[43mmodel\u001b[49m\u001b[38;5;241;43m.\u001b[39;49m\u001b[43mfit\u001b[49m\u001b[43m(\u001b[49m\n\u001b[0;32m      2\u001b[0m \u001b[43m    \u001b[49m\u001b[43mX_train\u001b[49m\u001b[43m,\u001b[49m\n\u001b[0;32m      3\u001b[0m \u001b[43m    \u001b[49m\u001b[43my_train\u001b[49m\u001b[43m,\u001b[49m\n\u001b[0;32m      4\u001b[0m \u001b[43m    \u001b[49m\u001b[43mvalidation_data\u001b[49m\u001b[38;5;241;43m=\u001b[39;49m\u001b[43m(\u001b[49m\u001b[43mX_val\u001b[49m\u001b[43m,\u001b[49m\u001b[43m \u001b[49m\u001b[43my_val\u001b[49m\u001b[43m)\u001b[49m\u001b[43m,\u001b[49m\n\u001b[0;32m      5\u001b[0m \u001b[43m    \u001b[49m\u001b[43mepochs\u001b[49m\u001b[43m \u001b[49m\u001b[38;5;241;43m=\u001b[39;49m\u001b[43m \u001b[49m\u001b[43mepochs\u001b[49m\u001b[43m,\u001b[49m\n\u001b[0;32m      6\u001b[0m \u001b[43m    \u001b[49m\u001b[43mcallbacks\u001b[49m\u001b[38;5;241;43m=\u001b[39;49m\u001b[43m[\u001b[49m\n\u001b[0;32m      7\u001b[0m \u001b[43m        \u001b[49m\u001b[43mModelCheckpoint\u001b[49m\u001b[43m(\u001b[49m\u001b[43msavepath\u001b[49m\u001b[43m,\u001b[49m\u001b[43m \u001b[49m\u001b[43mmonitor\u001b[49m\u001b[43m \u001b[49m\u001b[38;5;241;43m=\u001b[39;49m\u001b[43m \u001b[49m\u001b[38;5;124;43m'\u001b[39;49m\u001b[38;5;124;43mval_acc\u001b[39;49m\u001b[38;5;124;43m'\u001b[39;49m\u001b[43m,\u001b[49m\u001b[43m \u001b[49m\u001b[43mverbose\u001b[49m\u001b[43m \u001b[49m\u001b[38;5;241;43m=\u001b[39;49m\u001b[43m \u001b[49m\u001b[38;5;241;43m1\u001b[39;49m\u001b[43m,\u001b[49m\u001b[43m \u001b[49m\u001b[43msave_best_only\u001b[49m\u001b[43m \u001b[49m\u001b[38;5;241;43m=\u001b[39;49m\u001b[43m \u001b[49m\u001b[38;5;28;43;01mTrue\u001b[39;49;00m\u001b[43m,\u001b[49m\u001b[43m \u001b[49m\u001b[43mmode\u001b[49m\u001b[43m \u001b[49m\u001b[38;5;241;43m=\u001b[39;49m\u001b[43m \u001b[49m\u001b[38;5;124;43m'\u001b[39;49m\u001b[38;5;124;43mauto\u001b[39;49m\u001b[38;5;124;43m'\u001b[39;49m\u001b[43m)\u001b[49m\u001b[43m,\u001b[49m\u001b[43m  \u001b[49m\u001b[38;5;66;43;03m# 모델을 지정된 경로에 저장\u001b[39;49;00m\n\u001b[0;32m      8\u001b[0m \u001b[43m        \u001b[49m\u001b[43mReduceLROnPlateau\u001b[49m\u001b[43m(\u001b[49m\u001b[43mmonitor\u001b[49m\u001b[43m \u001b[49m\u001b[38;5;241;43m=\u001b[39;49m\u001b[43m \u001b[49m\u001b[38;5;124;43m'\u001b[39;49m\u001b[38;5;124;43mval_acc\u001b[39;49m\u001b[38;5;124;43m'\u001b[39;49m\u001b[43m,\u001b[49m\u001b[43m \u001b[49m\u001b[43mfactor\u001b[49m\u001b[43m \u001b[49m\u001b[38;5;241;43m=\u001b[39;49m\u001b[43m \u001b[49m\u001b[38;5;241;43m0.5\u001b[39;49m\u001b[43m,\u001b[49m\u001b[43m \u001b[49m\u001b[43mpatience\u001b[49m\u001b[43m \u001b[49m\u001b[38;5;241;43m=\u001b[39;49m\u001b[43m \u001b[49m\u001b[38;5;241;43m50\u001b[39;49m\u001b[43m,\u001b[49m\u001b[43m \u001b[49m\u001b[43mverbose\u001b[49m\u001b[43m \u001b[49m\u001b[38;5;241;43m=\u001b[39;49m\u001b[43m \u001b[49m\u001b[38;5;241;43m1\u001b[39;49m\u001b[43m,\u001b[49m\u001b[43m \u001b[49m\u001b[43mmode\u001b[49m\u001b[43m \u001b[49m\u001b[38;5;241;43m=\u001b[39;49m\u001b[43m \u001b[49m\u001b[38;5;124;43m'\u001b[39;49m\u001b[38;5;124;43mauto\u001b[39;49m\u001b[38;5;124;43m'\u001b[39;49m\u001b[43m)\u001b[49m\u001b[43m   \u001b[49m\u001b[38;5;66;43;03m# Learning_Rate를 조절하는 부분\u001b[39;49;00m\n\u001b[0;32m      9\u001b[0m \u001b[43m    \u001b[49m\u001b[43m]\u001b[49m\n\u001b[0;32m     10\u001b[0m \u001b[43m)\u001b[49m\n",
      "File \u001b[1;32m~\\anaconda3\\envs\\tenv\\lib\\site-packages\\keras\\utils\\traceback_utils.py:65\u001b[0m, in \u001b[0;36mfilter_traceback.<locals>.error_handler\u001b[1;34m(*args, **kwargs)\u001b[0m\n\u001b[0;32m     63\u001b[0m filtered_tb \u001b[38;5;241m=\u001b[39m \u001b[38;5;28;01mNone\u001b[39;00m\n\u001b[0;32m     64\u001b[0m \u001b[38;5;28;01mtry\u001b[39;00m:\n\u001b[1;32m---> 65\u001b[0m     \u001b[38;5;28;01mreturn\u001b[39;00m \u001b[43mfn\u001b[49m\u001b[43m(\u001b[49m\u001b[38;5;241;43m*\u001b[39;49m\u001b[43margs\u001b[49m\u001b[43m,\u001b[49m\u001b[43m \u001b[49m\u001b[38;5;241;43m*\u001b[39;49m\u001b[38;5;241;43m*\u001b[39;49m\u001b[43mkwargs\u001b[49m\u001b[43m)\u001b[49m\n\u001b[0;32m     66\u001b[0m \u001b[38;5;28;01mexcept\u001b[39;00m \u001b[38;5;167;01mException\u001b[39;00m \u001b[38;5;28;01mas\u001b[39;00m e:\n\u001b[0;32m     67\u001b[0m     filtered_tb \u001b[38;5;241m=\u001b[39m _process_traceback_frames(e\u001b[38;5;241m.\u001b[39m__traceback__)\n",
      "File \u001b[1;32m~\\anaconda3\\envs\\tenv\\lib\\site-packages\\keras\\engine\\training.py:1650\u001b[0m, in \u001b[0;36mModel.fit\u001b[1;34m(self, x, y, batch_size, epochs, verbose, callbacks, validation_split, validation_data, shuffle, class_weight, sample_weight, initial_epoch, steps_per_epoch, validation_steps, validation_batch_size, validation_freq, max_queue_size, workers, use_multiprocessing)\u001b[0m\n\u001b[0;32m   1642\u001b[0m \u001b[38;5;28;01mwith\u001b[39;00m tf\u001b[38;5;241m.\u001b[39mprofiler\u001b[38;5;241m.\u001b[39mexperimental\u001b[38;5;241m.\u001b[39mTrace(\n\u001b[0;32m   1643\u001b[0m     \u001b[38;5;124m\"\u001b[39m\u001b[38;5;124mtrain\u001b[39m\u001b[38;5;124m\"\u001b[39m,\n\u001b[0;32m   1644\u001b[0m     epoch_num\u001b[38;5;241m=\u001b[39mepoch,\n\u001b[1;32m   (...)\u001b[0m\n\u001b[0;32m   1647\u001b[0m     _r\u001b[38;5;241m=\u001b[39m\u001b[38;5;241m1\u001b[39m,\n\u001b[0;32m   1648\u001b[0m ):\n\u001b[0;32m   1649\u001b[0m     callbacks\u001b[38;5;241m.\u001b[39mon_train_batch_begin(step)\n\u001b[1;32m-> 1650\u001b[0m     tmp_logs \u001b[38;5;241m=\u001b[39m \u001b[38;5;28;43mself\u001b[39;49m\u001b[38;5;241;43m.\u001b[39;49m\u001b[43mtrain_function\u001b[49m\u001b[43m(\u001b[49m\u001b[43miterator\u001b[49m\u001b[43m)\u001b[49m\n\u001b[0;32m   1651\u001b[0m     \u001b[38;5;28;01mif\u001b[39;00m data_handler\u001b[38;5;241m.\u001b[39mshould_sync:\n\u001b[0;32m   1652\u001b[0m         context\u001b[38;5;241m.\u001b[39masync_wait()\n",
      "File \u001b[1;32m~\\anaconda3\\envs\\tenv\\lib\\site-packages\\tensorflow\\python\\util\\traceback_utils.py:150\u001b[0m, in \u001b[0;36mfilter_traceback.<locals>.error_handler\u001b[1;34m(*args, **kwargs)\u001b[0m\n\u001b[0;32m    148\u001b[0m filtered_tb \u001b[38;5;241m=\u001b[39m \u001b[38;5;28;01mNone\u001b[39;00m\n\u001b[0;32m    149\u001b[0m \u001b[38;5;28;01mtry\u001b[39;00m:\n\u001b[1;32m--> 150\u001b[0m   \u001b[38;5;28;01mreturn\u001b[39;00m \u001b[43mfn\u001b[49m\u001b[43m(\u001b[49m\u001b[38;5;241;43m*\u001b[39;49m\u001b[43margs\u001b[49m\u001b[43m,\u001b[49m\u001b[43m \u001b[49m\u001b[38;5;241;43m*\u001b[39;49m\u001b[38;5;241;43m*\u001b[39;49m\u001b[43mkwargs\u001b[49m\u001b[43m)\u001b[49m\n\u001b[0;32m    151\u001b[0m \u001b[38;5;28;01mexcept\u001b[39;00m \u001b[38;5;167;01mException\u001b[39;00m \u001b[38;5;28;01mas\u001b[39;00m e:\n\u001b[0;32m    152\u001b[0m   filtered_tb \u001b[38;5;241m=\u001b[39m _process_traceback_frames(e\u001b[38;5;241m.\u001b[39m__traceback__)\n",
      "File \u001b[1;32m~\\anaconda3\\envs\\tenv\\lib\\site-packages\\tensorflow\\python\\eager\\polymorphic_function\\polymorphic_function.py:880\u001b[0m, in \u001b[0;36mFunction.__call__\u001b[1;34m(self, *args, **kwds)\u001b[0m\n\u001b[0;32m    877\u001b[0m compiler \u001b[38;5;241m=\u001b[39m \u001b[38;5;124m\"\u001b[39m\u001b[38;5;124mxla\u001b[39m\u001b[38;5;124m\"\u001b[39m \u001b[38;5;28;01mif\u001b[39;00m \u001b[38;5;28mself\u001b[39m\u001b[38;5;241m.\u001b[39m_jit_compile \u001b[38;5;28;01melse\u001b[39;00m \u001b[38;5;124m\"\u001b[39m\u001b[38;5;124mnonXla\u001b[39m\u001b[38;5;124m\"\u001b[39m\n\u001b[0;32m    879\u001b[0m \u001b[38;5;28;01mwith\u001b[39;00m OptionalXlaContext(\u001b[38;5;28mself\u001b[39m\u001b[38;5;241m.\u001b[39m_jit_compile):\n\u001b[1;32m--> 880\u001b[0m   result \u001b[38;5;241m=\u001b[39m \u001b[38;5;28;43mself\u001b[39;49m\u001b[38;5;241;43m.\u001b[39;49m\u001b[43m_call\u001b[49m\u001b[43m(\u001b[49m\u001b[38;5;241;43m*\u001b[39;49m\u001b[43margs\u001b[49m\u001b[43m,\u001b[49m\u001b[43m \u001b[49m\u001b[38;5;241;43m*\u001b[39;49m\u001b[38;5;241;43m*\u001b[39;49m\u001b[43mkwds\u001b[49m\u001b[43m)\u001b[49m\n\u001b[0;32m    882\u001b[0m new_tracing_count \u001b[38;5;241m=\u001b[39m \u001b[38;5;28mself\u001b[39m\u001b[38;5;241m.\u001b[39mexperimental_get_tracing_count()\n\u001b[0;32m    883\u001b[0m without_tracing \u001b[38;5;241m=\u001b[39m (tracing_count \u001b[38;5;241m==\u001b[39m new_tracing_count)\n",
      "File \u001b[1;32m~\\anaconda3\\envs\\tenv\\lib\\site-packages\\tensorflow\\python\\eager\\polymorphic_function\\polymorphic_function.py:912\u001b[0m, in \u001b[0;36mFunction._call\u001b[1;34m(self, *args, **kwds)\u001b[0m\n\u001b[0;32m    909\u001b[0m   \u001b[38;5;28mself\u001b[39m\u001b[38;5;241m.\u001b[39m_lock\u001b[38;5;241m.\u001b[39mrelease()\n\u001b[0;32m    910\u001b[0m   \u001b[38;5;66;03m# In this case we have created variables on the first call, so we run the\u001b[39;00m\n\u001b[0;32m    911\u001b[0m   \u001b[38;5;66;03m# defunned version which is guaranteed to never create variables.\u001b[39;00m\n\u001b[1;32m--> 912\u001b[0m   \u001b[38;5;28;01mreturn\u001b[39;00m \u001b[38;5;28;43mself\u001b[39;49m\u001b[38;5;241;43m.\u001b[39;49m\u001b[43m_no_variable_creation_fn\u001b[49m\u001b[43m(\u001b[49m\u001b[38;5;241;43m*\u001b[39;49m\u001b[43margs\u001b[49m\u001b[43m,\u001b[49m\u001b[43m \u001b[49m\u001b[38;5;241;43m*\u001b[39;49m\u001b[38;5;241;43m*\u001b[39;49m\u001b[43mkwds\u001b[49m\u001b[43m)\u001b[49m  \u001b[38;5;66;03m# pylint: disable=not-callable\u001b[39;00m\n\u001b[0;32m    913\u001b[0m \u001b[38;5;28;01melif\u001b[39;00m \u001b[38;5;28mself\u001b[39m\u001b[38;5;241m.\u001b[39m_variable_creation_fn \u001b[38;5;129;01mis\u001b[39;00m \u001b[38;5;129;01mnot\u001b[39;00m \u001b[38;5;28;01mNone\u001b[39;00m:\n\u001b[0;32m    914\u001b[0m   \u001b[38;5;66;03m# Release the lock early so that multiple threads can perform the call\u001b[39;00m\n\u001b[0;32m    915\u001b[0m   \u001b[38;5;66;03m# in parallel.\u001b[39;00m\n\u001b[0;32m    916\u001b[0m   \u001b[38;5;28mself\u001b[39m\u001b[38;5;241m.\u001b[39m_lock\u001b[38;5;241m.\u001b[39mrelease()\n",
      "File \u001b[1;32m~\\anaconda3\\envs\\tenv\\lib\\site-packages\\tensorflow\\python\\eager\\polymorphic_function\\tracing_compiler.py:134\u001b[0m, in \u001b[0;36mTracingCompiler.__call__\u001b[1;34m(self, *args, **kwargs)\u001b[0m\n\u001b[0;32m    131\u001b[0m \u001b[38;5;28;01mwith\u001b[39;00m \u001b[38;5;28mself\u001b[39m\u001b[38;5;241m.\u001b[39m_lock:\n\u001b[0;32m    132\u001b[0m   (concrete_function,\n\u001b[0;32m    133\u001b[0m    filtered_flat_args) \u001b[38;5;241m=\u001b[39m \u001b[38;5;28mself\u001b[39m\u001b[38;5;241m.\u001b[39m_maybe_define_function(args, kwargs)\n\u001b[1;32m--> 134\u001b[0m \u001b[38;5;28;01mreturn\u001b[39;00m \u001b[43mconcrete_function\u001b[49m\u001b[38;5;241;43m.\u001b[39;49m\u001b[43m_call_flat\u001b[49m\u001b[43m(\u001b[49m\n\u001b[0;32m    135\u001b[0m \u001b[43m    \u001b[49m\u001b[43mfiltered_flat_args\u001b[49m\u001b[43m,\u001b[49m\u001b[43m \u001b[49m\u001b[43mcaptured_inputs\u001b[49m\u001b[38;5;241;43m=\u001b[39;49m\u001b[43mconcrete_function\u001b[49m\u001b[38;5;241;43m.\u001b[39;49m\u001b[43mcaptured_inputs\u001b[49m\u001b[43m)\u001b[49m\n",
      "File \u001b[1;32m~\\anaconda3\\envs\\tenv\\lib\\site-packages\\tensorflow\\python\\eager\\polymorphic_function\\monomorphic_function.py:1745\u001b[0m, in \u001b[0;36mConcreteFunction._call_flat\u001b[1;34m(self, args, captured_inputs, cancellation_manager)\u001b[0m\n\u001b[0;32m   1741\u001b[0m possible_gradient_type \u001b[38;5;241m=\u001b[39m gradients_util\u001b[38;5;241m.\u001b[39mPossibleTapeGradientTypes(args)\n\u001b[0;32m   1742\u001b[0m \u001b[38;5;28;01mif\u001b[39;00m (possible_gradient_type \u001b[38;5;241m==\u001b[39m gradients_util\u001b[38;5;241m.\u001b[39mPOSSIBLE_GRADIENT_TYPES_NONE\n\u001b[0;32m   1743\u001b[0m     \u001b[38;5;129;01mand\u001b[39;00m executing_eagerly):\n\u001b[0;32m   1744\u001b[0m   \u001b[38;5;66;03m# No tape is watching; skip to running the function.\u001b[39;00m\n\u001b[1;32m-> 1745\u001b[0m   \u001b[38;5;28;01mreturn\u001b[39;00m \u001b[38;5;28mself\u001b[39m\u001b[38;5;241m.\u001b[39m_build_call_outputs(\u001b[38;5;28;43mself\u001b[39;49m\u001b[38;5;241;43m.\u001b[39;49m\u001b[43m_inference_function\u001b[49m\u001b[38;5;241;43m.\u001b[39;49m\u001b[43mcall\u001b[49m\u001b[43m(\u001b[49m\n\u001b[0;32m   1746\u001b[0m \u001b[43m      \u001b[49m\u001b[43mctx\u001b[49m\u001b[43m,\u001b[49m\u001b[43m \u001b[49m\u001b[43margs\u001b[49m\u001b[43m,\u001b[49m\u001b[43m \u001b[49m\u001b[43mcancellation_manager\u001b[49m\u001b[38;5;241;43m=\u001b[39;49m\u001b[43mcancellation_manager\u001b[49m\u001b[43m)\u001b[49m)\n\u001b[0;32m   1747\u001b[0m forward_backward \u001b[38;5;241m=\u001b[39m \u001b[38;5;28mself\u001b[39m\u001b[38;5;241m.\u001b[39m_select_forward_and_backward_functions(\n\u001b[0;32m   1748\u001b[0m     args,\n\u001b[0;32m   1749\u001b[0m     possible_gradient_type,\n\u001b[0;32m   1750\u001b[0m     executing_eagerly)\n\u001b[0;32m   1751\u001b[0m forward_function, args_with_tangents \u001b[38;5;241m=\u001b[39m forward_backward\u001b[38;5;241m.\u001b[39mforward()\n",
      "File \u001b[1;32m~\\anaconda3\\envs\\tenv\\lib\\site-packages\\tensorflow\\python\\eager\\polymorphic_function\\monomorphic_function.py:378\u001b[0m, in \u001b[0;36m_EagerDefinedFunction.call\u001b[1;34m(self, ctx, args, cancellation_manager)\u001b[0m\n\u001b[0;32m    376\u001b[0m \u001b[38;5;28;01mwith\u001b[39;00m _InterpolateFunctionError(\u001b[38;5;28mself\u001b[39m):\n\u001b[0;32m    377\u001b[0m   \u001b[38;5;28;01mif\u001b[39;00m cancellation_manager \u001b[38;5;129;01mis\u001b[39;00m \u001b[38;5;28;01mNone\u001b[39;00m:\n\u001b[1;32m--> 378\u001b[0m     outputs \u001b[38;5;241m=\u001b[39m \u001b[43mexecute\u001b[49m\u001b[38;5;241;43m.\u001b[39;49m\u001b[43mexecute\u001b[49m\u001b[43m(\u001b[49m\n\u001b[0;32m    379\u001b[0m \u001b[43m        \u001b[49m\u001b[38;5;28;43mstr\u001b[39;49m\u001b[43m(\u001b[49m\u001b[38;5;28;43mself\u001b[39;49m\u001b[38;5;241;43m.\u001b[39;49m\u001b[43msignature\u001b[49m\u001b[38;5;241;43m.\u001b[39;49m\u001b[43mname\u001b[49m\u001b[43m)\u001b[49m\u001b[43m,\u001b[49m\n\u001b[0;32m    380\u001b[0m \u001b[43m        \u001b[49m\u001b[43mnum_outputs\u001b[49m\u001b[38;5;241;43m=\u001b[39;49m\u001b[38;5;28;43mself\u001b[39;49m\u001b[38;5;241;43m.\u001b[39;49m\u001b[43m_num_outputs\u001b[49m\u001b[43m,\u001b[49m\n\u001b[0;32m    381\u001b[0m \u001b[43m        \u001b[49m\u001b[43minputs\u001b[49m\u001b[38;5;241;43m=\u001b[39;49m\u001b[43margs\u001b[49m\u001b[43m,\u001b[49m\n\u001b[0;32m    382\u001b[0m \u001b[43m        \u001b[49m\u001b[43mattrs\u001b[49m\u001b[38;5;241;43m=\u001b[39;49m\u001b[43mattrs\u001b[49m\u001b[43m,\u001b[49m\n\u001b[0;32m    383\u001b[0m \u001b[43m        \u001b[49m\u001b[43mctx\u001b[49m\u001b[38;5;241;43m=\u001b[39;49m\u001b[43mctx\u001b[49m\u001b[43m)\u001b[49m\n\u001b[0;32m    384\u001b[0m   \u001b[38;5;28;01melse\u001b[39;00m:\n\u001b[0;32m    385\u001b[0m     outputs \u001b[38;5;241m=\u001b[39m execute\u001b[38;5;241m.\u001b[39mexecute_with_cancellation(\n\u001b[0;32m    386\u001b[0m         \u001b[38;5;28mstr\u001b[39m(\u001b[38;5;28mself\u001b[39m\u001b[38;5;241m.\u001b[39msignature\u001b[38;5;241m.\u001b[39mname),\n\u001b[0;32m    387\u001b[0m         num_outputs\u001b[38;5;241m=\u001b[39m\u001b[38;5;28mself\u001b[39m\u001b[38;5;241m.\u001b[39m_num_outputs,\n\u001b[1;32m   (...)\u001b[0m\n\u001b[0;32m    390\u001b[0m         ctx\u001b[38;5;241m=\u001b[39mctx,\n\u001b[0;32m    391\u001b[0m         cancellation_manager\u001b[38;5;241m=\u001b[39mcancellation_manager)\n",
      "File \u001b[1;32m~\\anaconda3\\envs\\tenv\\lib\\site-packages\\tensorflow\\python\\eager\\execute.py:52\u001b[0m, in \u001b[0;36mquick_execute\u001b[1;34m(op_name, num_outputs, inputs, attrs, ctx, name)\u001b[0m\n\u001b[0;32m     50\u001b[0m \u001b[38;5;28;01mtry\u001b[39;00m:\n\u001b[0;32m     51\u001b[0m   ctx\u001b[38;5;241m.\u001b[39mensure_initialized()\n\u001b[1;32m---> 52\u001b[0m   tensors \u001b[38;5;241m=\u001b[39m \u001b[43mpywrap_tfe\u001b[49m\u001b[38;5;241;43m.\u001b[39;49m\u001b[43mTFE_Py_Execute\u001b[49m\u001b[43m(\u001b[49m\u001b[43mctx\u001b[49m\u001b[38;5;241;43m.\u001b[39;49m\u001b[43m_handle\u001b[49m\u001b[43m,\u001b[49m\u001b[43m \u001b[49m\u001b[43mdevice_name\u001b[49m\u001b[43m,\u001b[49m\u001b[43m \u001b[49m\u001b[43mop_name\u001b[49m\u001b[43m,\u001b[49m\n\u001b[0;32m     53\u001b[0m \u001b[43m                                      \u001b[49m\u001b[43minputs\u001b[49m\u001b[43m,\u001b[49m\u001b[43m \u001b[49m\u001b[43mattrs\u001b[49m\u001b[43m,\u001b[49m\u001b[43m \u001b[49m\u001b[43mnum_outputs\u001b[49m\u001b[43m)\u001b[49m\n\u001b[0;32m     54\u001b[0m \u001b[38;5;28;01mexcept\u001b[39;00m core\u001b[38;5;241m.\u001b[39m_NotOkStatusException \u001b[38;5;28;01mas\u001b[39;00m e:\n\u001b[0;32m     55\u001b[0m   \u001b[38;5;28;01mif\u001b[39;00m name \u001b[38;5;129;01mis\u001b[39;00m \u001b[38;5;129;01mnot\u001b[39;00m \u001b[38;5;28;01mNone\u001b[39;00m:\n",
      "\u001b[1;31mKeyboardInterrupt\u001b[0m: "
     ]
    }
   ],
   "source": [
    "history = model.fit(\n",
    "    X_train,\n",
    "    y_train,\n",
    "    validation_data=(X_val, y_val),\n",
    "    epochs = epochs,\n",
    "    callbacks=[\n",
    "        ModelCheckpoint(savepath, monitor = 'val_acc', verbose = 1, save_best_only = True, mode = 'auto'),  # 모델을 지정된 경로에 저장\n",
    "        ReduceLROnPlateau(monitor = 'val_acc', factor = 0.5, patience = 50, verbose = 1, mode = 'auto')   # Learning_Rate를 조절하는 부분\n",
    "    ]\n",
    ")"
   ]
  },
  {
   "cell_type": "code",
   "execution_count": 34,
   "id": "aa353d15",
   "metadata": {},
   "outputs": [
    {
     "data": {
      "image/png": "[encoded data removed]",
      "text/plain": [
       "<Figure size 1600x1000 with 2 Axes>"
      ]
     },
     "metadata": {},
     "output_type": "display_data"
    }
   ],
   "source": [
    "fig, loss_ax = plt.subplots(figsize=(16, 10))\n",
    "acc_ax = loss_ax.twinx()\n",
    "\n",
    "loss_ax.plot(history.history['loss'], 'y', label = 'train loss')\n",
    "loss_ax.plot(history.history['val_loss'], 'r', label='val loss')\n",
    "loss_ax.set_xlabel('epoch')\n",
    "loss_ax.set_ylabel('loss')\n",
    "loss_ax.legend(loc = 'upper left', bbox_to_anchor=(1.03, 1))\n",
    "\n",
    "\n",
    "acc_ax.plot(history.history['acc'], 'b', label = 'train acc')\n",
    "acc_ax.plot(history.history['val_acc'], 'g', label='val acc')\n",
    "acc_ax.set_ylabel('accuracy')\n",
    "acc_ax.legend(loc = 'upper left',bbox_to_anchor=(1.03, 0.93))\n",
    "\n",
    "plt.show()"
   ]
  },
  {
   "cell_type": "code",
   "execution_count": 35,
   "id": "cf82dd0a",
   "metadata": {},
   "outputs": [
    {
     "name": "stdout",
     "output_type": "stream",
     "text": [
      "23/23 [==============================] - 0s 2ms/step\n"
     ]
    },
    {
     "data": {
      "text/plain": [
       "array([[[587,   0],\n",
       "        [  0, 143]],\n",
       "\n",
       "       [[588,   0],\n",
       "        [  0, 142]],\n",
       "\n",
       "       [[569,   0],\n",
       "        [  0, 161]],\n",
       "\n",
       "       [[588,   0],\n",
       "        [  0, 142]],\n",
       "\n",
       "       [[588,   0],\n",
       "        [  0, 142]]], dtype=int64)"
      ]
     },
     "execution_count": 35,
     "metadata": {},
     "output_type": "execute_result"
    }
   ],
   "source": [
    "# 저장한 모델 가져오기\n",
    "## val_acc가 1로 수렴하게 되면서 confusion_matrix의 형태가 FP, TN의 값이 0이 됨\n",
    "from sklearn.metrics import multilabel_confusion_matrix\n",
    "from tensorflow.keras.models import load_model\n",
    "\n",
    "model_1 = load_model(savepath)\n",
    "\n",
    "y_pred = model.predict(X_val)\n",
    "\n",
    "multilabel_confusion_matrix(np.argmax(y_val, axis = 1), np.argmax(y_pred, axis = 1))"
   ]
  }
 ],
 "metadata": {
  "kernelspec": {
   "display_name": "Python 3 (ipykernel)",
   "language": "python",
   "name": "python3"
  },
  "language_info": {
   "codemirror_mode": {
    "name": "ipython",
    "version": 3
   },
   "file_extension": ".py",
   "mimetype": "text/x-python",
   "name": "python",
   "nbconvert_exporter": "python",
   "pygments_lexer": "ipython3",
   "version": "3.8.15"
  }
 },
 "nbformat": 4,
 "nbformat_minor": 5
}
